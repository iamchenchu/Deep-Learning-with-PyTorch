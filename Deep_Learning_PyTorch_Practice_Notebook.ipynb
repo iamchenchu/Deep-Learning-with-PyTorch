{
  "nbformat": 4,
  "nbformat_minor": 0,
  "metadata": {
    "colab": {
      "provenance": [],
      "authorship_tag": "ABX9TyPZEhgTr3rGZlr5hkaOuBb8",
      "include_colab_link": true
    },
    "kernelspec": {
      "name": "python3",
      "display_name": "Python 3"
    },
    "language_info": {
      "name": "python"
    }
  },
  "cells": [
    {
      "cell_type": "markdown",
      "metadata": {
        "id": "view-in-github",
        "colab_type": "text"
      },
      "source": [
        "<a href=\"https://colab.research.google.com/github/iamchenchu/Deep-Learning-with-PyTorch/blob/main/Deep_Learning_PyTorch_Practice_Notebook.ipynb\" target=\"_parent\"><img src=\"https://colab.research.google.com/assets/colab-badge.svg\" alt=\"Open In Colab\"/></a>"
      ]
    },
    {
      "cell_type": "code",
      "execution_count": null,
      "metadata": {
        "colab": {
          "base_uri": "https://localhost:8080/"
        },
        "id": "lELKZQ4Ixguk",
        "outputId": "afeff7be-c92c-4543-bd08-370beb810e41"
      },
      "outputs": [
        {
          "output_type": "stream",
          "name": "stdout",
          "text": [
            "2.2.1+cu121\n"
          ]
        }
      ],
      "source": [
        "import torch\n",
        "import numpy as np\n",
        "import matplotlib.pyplot as plt\n",
        "import pandas as pd\n",
        "print(torch.__version__)"
      ]
    },
    {
      "cell_type": "code",
      "source": [
        "# Scalar\n",
        "scalar = torch.Tensor(10)\n",
        "\n",
        "print(scalar)\n",
        "print(type(scalar))\n",
        "print(\"shape is :\", scalar.shape)\n",
        "print(\"Dimention is :\", scalar.ndim)\n",
        "print(\"Size is :\", scalar.size())\n"
      ],
      "metadata": {
        "colab": {
          "base_uri": "https://localhost:8080/"
        },
        "id": "i0VTt_iexsr0",
        "outputId": "959af716-6d70-4b81-be44-3110d9f827c6"
      },
      "execution_count": null,
      "outputs": [
        {
          "output_type": "stream",
          "name": "stdout",
          "text": [
            "tensor([ 1.7803e+02,  3.2084e-41,  1.0959e+02,  3.2084e-41,  8.9683e-44,\n",
            "         0.0000e+00,  1.3452e-43,  0.0000e+00, -4.2714e-25,  7.0065e-45])\n",
            "<class 'torch.Tensor'>\n",
            "shape is : torch.Size([10])\n",
            "Dimention is : 1\n",
            "Size is : torch.Size([10])\n"
          ]
        }
      ]
    },
    {
      "cell_type": "code",
      "source": [
        "# Vector\n",
        "vector = torch.Tensor([7,7])\n",
        "print(vector)\n",
        "print(vector.size())\n",
        "print(vector.shape)\n",
        "print(vector.ndim)"
      ],
      "metadata": {
        "colab": {
          "base_uri": "https://localhost:8080/"
        },
        "id": "ecVSjYymzHaS",
        "outputId": "0fd56b03-6d0a-4a90-9311-4f782b3af6f6"
      },
      "execution_count": null,
      "outputs": [
        {
          "output_type": "stream",
          "name": "stdout",
          "text": [
            "tensor([7., 7.])\n",
            "torch.Size([2])\n",
            "torch.Size([2])\n",
            "1\n"
          ]
        }
      ]
    },
    {
      "cell_type": "code",
      "source": [
        "# Matrix\n",
        "matrics = torch.Tensor([[[2,3],[4,5]]])\n",
        "\n",
        "print(matrics)\n",
        "\n",
        "print(\"The dimension is : \", matrics.ndim)\n",
        "print(\"The shape is : \", matrics.shape)\n",
        "print(\"the size is :\", matrics.size())\n",
        "print(matrics[0])\n",
        "print(matrics[0])\n",
        "\n",
        "print()"
      ],
      "metadata": {
        "colab": {
          "base_uri": "https://localhost:8080/"
        },
        "id": "zBScYDEOz224",
        "outputId": "ee93e58e-39c6-4cd4-f3a2-b13af36d51d9"
      },
      "execution_count": null,
      "outputs": [
        {
          "output_type": "stream",
          "name": "stdout",
          "text": [
            "tensor([[[2., 3.],\n",
            "         [4., 5.]]])\n",
            "The dimension is :  3\n",
            "The shape is :  torch.Size([1, 2, 2])\n",
            "the size is : torch.Size([1, 2, 2])\n",
            "tensor([[2., 3.],\n",
            "        [4., 5.]])\n",
            "tensor([[2., 3.],\n",
            "        [4., 5.]])\n",
            "\n"
          ]
        }
      ]
    },
    {
      "cell_type": "code",
      "source": [
        "# Random Tensors\n",
        "random_tensor = torch.rand(6,7)\n",
        "print(random_tensor)\n",
        "print(random_tensor.ndim)\n",
        "print(random_tensor.shape)\n",
        "print(random_tensor.size())\n"
      ],
      "metadata": {
        "colab": {
          "base_uri": "https://localhost:8080/"
        },
        "id": "mCDzF3so0dq1",
        "outputId": "eb535284-1da4-49e7-bba1-12009eb140de"
      },
      "execution_count": null,
      "outputs": [
        {
          "output_type": "stream",
          "name": "stdout",
          "text": [
            "tensor([[0.7491, 0.3953, 0.0670, 0.4532, 0.2386, 0.7387, 0.5320],\n",
            "        [0.6799, 0.3947, 0.7460, 0.2616, 0.3536, 0.7271, 0.8958],\n",
            "        [0.8084, 0.9422, 0.1394, 0.1529, 0.3319, 0.7747, 0.7920],\n",
            "        [0.6684, 0.5163, 0.5747, 0.8128, 0.8590, 0.0212, 0.3059],\n",
            "        [0.8750, 0.4208, 0.8533, 0.2446, 0.0844, 0.2894, 0.1184],\n",
            "        [0.1172, 0.7809, 0.9680, 0.2146, 0.8594, 0.3828, 0.0528]])\n",
            "2\n",
            "torch.Size([6, 7])\n",
            "torch.Size([6, 7])\n"
          ]
        }
      ]
    },
    {
      "cell_type": "code",
      "source": [
        "# create similar to image tensor\n",
        "size = (3, 224, 224)\n",
        "\n",
        "random_img_tensor = torch.rand(size)\n",
        "print(random_img_tensor)\n",
        "print(\"The dimension is :\",random_img_tensor.ndim)\n",
        "print(\"The shape is :\", random_img_tensor.shape)\n",
        "print(\"The size is :\",random_img_tensor.size())\n"
      ],
      "metadata": {
        "colab": {
          "base_uri": "https://localhost:8080/"
        },
        "id": "QuKodGp81gr6",
        "outputId": "772e0474-9495-40f5-845b-1f4045513947"
      },
      "execution_count": null,
      "outputs": [
        {
          "output_type": "stream",
          "name": "stdout",
          "text": [
            "tensor([[[0.2573, 0.5379, 0.1187,  ..., 0.2414, 0.3403, 0.8953],\n",
            "         [0.9370, 0.9636, 0.5245,  ..., 0.8792, 0.3119, 0.0913],\n",
            "         [0.6883, 0.6449, 0.2750,  ..., 0.1066, 0.4483, 0.3833],\n",
            "         ...,\n",
            "         [0.6196, 0.6174, 0.8017,  ..., 0.8312, 0.1074, 0.9517],\n",
            "         [0.4511, 0.1661, 0.0613,  ..., 0.4938, 0.2829, 0.4840],\n",
            "         [0.0294, 0.0416, 0.8531,  ..., 0.3567, 0.8949, 0.6628]],\n",
            "\n",
            "        [[0.2230, 0.9199, 0.8867,  ..., 0.0022, 0.7921, 0.0153],\n",
            "         [0.8580, 0.9604, 0.8565,  ..., 0.1241, 0.0742, 0.2747],\n",
            "         [0.3718, 0.5109, 0.6601,  ..., 0.1560, 0.9949, 0.1014],\n",
            "         ...,\n",
            "         [0.3899, 0.7395, 0.2946,  ..., 0.2480, 0.5615, 0.9705],\n",
            "         [0.8799, 0.1227, 0.7456,  ..., 0.7899, 0.0153, 0.7538],\n",
            "         [0.7290, 0.8570, 0.3041,  ..., 0.6000, 0.2370, 0.1854]],\n",
            "\n",
            "        [[0.6019, 0.4093, 0.0956,  ..., 0.1054, 0.3891, 0.3913],\n",
            "         [0.9612, 0.2238, 0.2564,  ..., 0.4513, 0.4918, 0.6679],\n",
            "         [0.4859, 0.8871, 0.4318,  ..., 0.1201, 0.0415, 0.9825],\n",
            "         ...,\n",
            "         [0.4531, 0.3297, 0.8455,  ..., 0.4169, 0.7776, 0.2172],\n",
            "         [0.6024, 0.6575, 0.2326,  ..., 0.3495, 0.5997, 0.0940],\n",
            "         [0.4254, 0.7227, 0.8925,  ..., 0.9264, 0.6575, 0.1222]]])\n",
            "The dimension is : 3\n",
            "The shape is : torch.Size([3, 224, 224])\n",
            "The size is : torch.Size([3, 224, 224])\n"
          ]
        }
      ]
    },
    {
      "cell_type": "code",
      "source": [
        "# Create the tensors with 0's\n",
        "zero_tensors = torch.zeros(3,4)\n",
        "print(zero_tensors)\n",
        "print(zero_tensors.ndim)\n",
        "print(zero_tensors.shape)\n",
        "print(zero_tensors.size())\n"
      ],
      "metadata": {
        "colab": {
          "base_uri": "https://localhost:8080/"
        },
        "id": "0Gm7jfFV2kZQ",
        "outputId": "3d04ac39-e427-4691-ae36-6bc55c2cf1da"
      },
      "execution_count": null,
      "outputs": [
        {
          "output_type": "stream",
          "name": "stdout",
          "text": [
            "tensor([[0., 0., 0., 0.],\n",
            "        [0., 0., 0., 0.],\n",
            "        [0., 0., 0., 0.]])\n",
            "2\n",
            "torch.Size([3, 4])\n",
            "torch.Size([3, 4])\n"
          ]
        }
      ]
    },
    {
      "cell_type": "code",
      "source": [
        "# Create the tensors with 1's\n",
        "\n",
        "ones_tensors = torch.ones(2,4,4)\n",
        "print(ones_tensors)\n",
        "print(ones_tensors.shape)\n",
        "print(ones_tensors.ndim)\n",
        "print(ones_tensors.size())"
      ],
      "metadata": {
        "colab": {
          "base_uri": "https://localhost:8080/"
        },
        "id": "vXhdvMGr216L",
        "outputId": "ea439e57-896b-42c2-a6b1-90892f407c13"
      },
      "execution_count": null,
      "outputs": [
        {
          "output_type": "stream",
          "name": "stdout",
          "text": [
            "tensor([[[1., 1., 1., 1.],\n",
            "         [1., 1., 1., 1.],\n",
            "         [1., 1., 1., 1.],\n",
            "         [1., 1., 1., 1.]],\n",
            "\n",
            "        [[1., 1., 1., 1.],\n",
            "         [1., 1., 1., 1.],\n",
            "         [1., 1., 1., 1.],\n",
            "         [1., 1., 1., 1.]]])\n",
            "torch.Size([2, 4, 4])\n",
            "3\n",
            "torch.Size([2, 4, 4])\n"
          ]
        }
      ]
    },
    {
      "cell_type": "code",
      "source": [
        "# torch.arange\n",
        "one_to_ten = torch.arange(start=1, end = 1000, step = 77)\n",
        "print(one_to_ten)\n",
        "print(len(one_to_ten))\n",
        "print(one_to_ten.shape)\n",
        "print(one_to_ten.ndim)"
      ],
      "metadata": {
        "colab": {
          "base_uri": "https://localhost:8080/"
        },
        "id": "PHpFg_ML3rz6",
        "outputId": "b17ea256-57ba-4eac-906c-e9f8d2c23044"
      },
      "execution_count": null,
      "outputs": [
        {
          "output_type": "stream",
          "name": "stdout",
          "text": [
            "tensor([  1,  78, 155, 232, 309, 386, 463, 540, 617, 694, 771, 848, 925])\n",
            "13\n",
            "torch.Size([13])\n",
            "1\n"
          ]
        }
      ]
    },
    {
      "cell_type": "code",
      "source": [
        "# Using data type\n",
        "\n",
        "f_tensor = torch.tensor([3.0, 11.0, 20.0, 34.0],\n",
        "                            dtype=None, # float32, float64, float16\n",
        "                            device=None, # CPU or Cuda\n",
        "                            requires_grad=False) # Track the gradients\n",
        "\n",
        "print(f_tensor)\n",
        "print(f_tensor.ndim)\n",
        "print(f_tensor.dtype) # By default the pytorch assigns the float32 to the tensor\n",
        "print(f_tensor.shape)\n"
      ],
      "metadata": {
        "colab": {
          "base_uri": "https://localhost:8080/"
        },
        "id": "-MXcuhxH40Ea",
        "outputId": "91b91935-57de-4cf1-d2b6-81de0bbaef90"
      },
      "execution_count": null,
      "outputs": [
        {
          "output_type": "stream",
          "name": "stdout",
          "text": [
            "tensor([ 3., 11., 20., 34.])\n",
            "1\n",
            "torch.float32\n",
            "torch.Size([4])\n"
          ]
        }
      ]
    },
    {
      "cell_type": "code",
      "source": [
        "\n",
        "float_16_tensor = torch.tensor([1, 2, 4, 5, 6],\n",
        "                               dtype = torch.float16,\n",
        "                               device = None,\n",
        "                               requires_grad=False)\n",
        "\n",
        "print(float_16_tensor)\n",
        "print(float_16_tensor.ndim)"
      ],
      "metadata": {
        "colab": {
          "base_uri": "https://localhost:8080/"
        },
        "id": "aTkgfwWd5sAF",
        "outputId": "e560de84-a765-4706-ac26-4d0c20923045"
      },
      "execution_count": null,
      "outputs": [
        {
          "output_type": "stream",
          "name": "stdout",
          "text": [
            "tensor([1., 2., 4., 5., 6.], dtype=torch.float16)\n",
            "1\n"
          ]
        }
      ]
    },
    {
      "cell_type": "code",
      "source": [
        "#Converting the data type from one to another\n",
        "\n",
        "float_32_tensor = torch.tensor([1, 2, 3, 5])\n",
        "print(float_32_tensor.shape)\n",
        "print(float_32_tensor.ndim)\n",
        "print(float_32_tensor.shape)"
      ],
      "metadata": {
        "colab": {
          "base_uri": "https://localhost:8080/"
        },
        "id": "7Y_HsJf-83kf",
        "outputId": "cff12855-0c6b-45e5-bbd0-3636b77744f3"
      },
      "execution_count": null,
      "outputs": [
        {
          "output_type": "stream",
          "name": "stdout",
          "text": [
            "torch.Size([4])\n",
            "1\n",
            "torch.Size([4])\n"
          ]
        }
      ]
    },
    {
      "cell_type": "markdown",
      "source": [
        "Why random tensors ? : these are important because the way neural networks learn is that they start with tensors full of random numbers and then adjust those random numbers.\n",
        "\n",
        "`start with random numbers > look at the data > update the random numbers > look at the data > update the random numbers`"
      ],
      "metadata": {
        "id": "ToJ1sX53CwpJ"
      }
    },
    {
      "cell_type": "code",
      "source": [],
      "metadata": {
        "id": "brYgOcgnCqQp"
      },
      "execution_count": null,
      "outputs": []
    }
  ]
}